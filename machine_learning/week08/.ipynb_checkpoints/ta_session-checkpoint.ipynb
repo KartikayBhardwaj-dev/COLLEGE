{
 "cells": [
  {
   "cell_type": "markdown",
   "id": "6759f342",
   "metadata": {},
   "source": [
    "IMAGE CLASSIFICATION\n"
   ]
  }
 ],
 "metadata": {
  "language_info": {
   "name": "python"
  }
 },
 "nbformat": 4,
 "nbformat_minor": 5
}
